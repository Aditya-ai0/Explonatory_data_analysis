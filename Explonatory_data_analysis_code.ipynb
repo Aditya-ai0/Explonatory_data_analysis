import pandas as pd
import numpy as np
import plotly.express as px
from plotly.offline import init_notebook_mode
import matplotlib.pyplot as plt
%matplotlib inline
from wordcloud import WordCloud , ImageColorGenerator
data = pd.read_csv("/content/indian_food.csv")
data
data.head()
data.columns
data.info()
data.isnull().any()
data.isnull().sum()
data=data.replace(-1,np.nan)
data=data.replace('-1',np.nan)
data.head()
data.isnull().sum()
data.shape
pie_data = data.diet.value_counts().reset_index()
pie_data.columns = ['diet','count']
fig = px.pie(pie_data, values='count', names='diet', title='Proportion of Vegetarian and Non-Vegetarian dishes',
             color_discrete_sequence=['green', 'red'])
fig.show()

sweet_data = data[data['flavor_profile']=='sweet']
final_sweet_data = sweet_data[sweet_data['course']!='dessert']
final_sweet_data

flav_data = data.flavor_profile.value_counts().reset_index()
flav_data.columns = ['flavor_profile', 'prep_time']
fig = px.bar(flav_data,x='flavor_profile',y='prep_time',title='variety of item according to the flavour',
color_discrete_sequence=['green'])
fig.show()

cooking_time= data[['cook_time','name']]

cooking_time.head()

cooking_time=cooking_time.sort_values(['cook_time'],ascending=True)

ten_cook_quickly=cooking_time.head(10)

#cook_data = ten_cook_quickly.cook_time.value_counts().reset_index()

#cook_data.columns = ['cook_time', 'name']
fig = px.bar(ten_cook_quickly,x='cook_time',y='name',title='dishes based on cooking time',
color_discrete_sequence=['green'])
fig.show()
